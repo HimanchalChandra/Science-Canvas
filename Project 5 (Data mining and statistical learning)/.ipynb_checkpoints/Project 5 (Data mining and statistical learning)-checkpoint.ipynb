{
 "cells": [
  {
   "cell_type": "code",
   "execution_count": 1,
   "metadata": {},
   "outputs": [
    {
     "name": "stdout",
     "output_type": "stream",
     "text": [
      "---------------------STATISTICS------------------\n",
      "          max   min       mean median standard deviation\n",
      "X           9     1    4.66925      4            2.31378\n",
      "Y           9     2    4.29981      4             1.2299\n",
      "FFMC     96.2  18.7    90.6447   91.6            5.52011\n",
      "DMC     291.3   1.1    110.872  108.3            64.0465\n",
      "DC      860.6   7.9     547.94  664.2            248.066\n",
      "ISI      56.1     0    9.02166    8.4            4.55948\n",
      "temp     33.3   2.2    18.8892   19.3            5.80663\n",
      "RH        100    15    44.2882     42            16.3175\n",
      "wind      9.4   0.4     4.0176      4            1.79165\n",
      "rain      6.4     0  0.0216634      0           0.295959\n",
      "area  1090.84     0    12.8473   0.52            63.6558\n",
      "\n",
      "\n",
      "-------------Correlation between area and other attributes-----------\n",
      "X       0.063385\n",
      "Y       0.044873\n",
      "FFMC    0.040122\n",
      "DMC     0.072994\n",
      "DC      0.049383\n",
      "ISI     0.008258\n",
      "temp    0.097844\n",
      "RH     -0.075519\n",
      "wind    0.012317\n",
      "rain   -0.007366\n",
      "Name: area, dtype: float64\n",
      "\n",
      "\n",
      "--------------------------------------------------------\n",
      "The attribute which is most correlated to area is temp\n",
      "--------------------------------------------------------\n",
      "\n",
      "\n",
      "\n",
      "---------------------AREA VS X ---------------------\n",
      "Linear Model For Area vs X  is [area =  1.60896357512 * X  +  6.41143776916 ]\n",
      "\n",
      "Root Mean Squared Error is  63.47624580804098\n",
      "\n",
      "\n",
      "R-Squared Value is  0.00370696346691\n"
     ]
    },
    {
     "data": {
      "text/plain": [
       "<matplotlib.figure.Figure at 0x1a35cbe2080>"
      ]
     },
     "metadata": {},
     "output_type": "display_data"
    },
    {
     "name": "stdout",
     "output_type": "stream",
     "text": [
      "-------------------------------------------------------\n",
      "\n",
      "\n",
      "\n",
      "---------------------AREA VS Y ---------------------\n",
      "Linear Model For Area vs Y  is [area =  2.1919948358 * Y  +  4.07931272643 ]\n",
      "\n",
      "Root Mean Squared Error is  63.533768115206954\n",
      "\n",
      "\n",
      "R-Squared Value is  0.00190045962767\n"
     ]
    },
    {
     "data": {
      "text/plain": [
       "<matplotlib.figure.Figure at 0x1a363176320>"
      ]
     },
     "metadata": {},
     "output_type": "display_data"
    },
    {
     "name": "stdout",
     "output_type": "stream",
     "text": [
      "-------------------------------------------------------\n",
      "\n",
      "\n",
      "\n",
      "---------------------AREA VS month ---------------------\n",
      "Linear Model For Area vs month  is [area =  1.513805072 * month  +  2.25065656566 ]\n",
      "\n",
      "Root Mean Squared Error is  63.49692028411164\n",
      "\n",
      "\n",
      "R-Squared Value is  0.00305786424306\n"
     ]
    },
    {
     "data": {
      "text/plain": [
       "<matplotlib.figure.Figure at 0x1a363559c18>"
      ]
     },
     "metadata": {},
     "output_type": "display_data"
    },
    {
     "name": "stdout",
     "output_type": "stream",
     "text": [
      "-------------------------------------------------------\n",
      "\n",
      "\n",
      "\n",
      "---------------------AREA VS FFMC ---------------------\n",
      "Linear Model For Area vs FFMC  is [area =  0.462671689613 * FFMC  +  -29.0914355742 ]\n",
      "\n",
      "Root Mean Squared Error is  63.54301916216229\n",
      "\n",
      "\n",
      "R-Squared Value is  0.0016097752177\n"
     ]
    },
    {
     "data": {
      "text/plain": [
       "<matplotlib.figure.Figure at 0x1a363599a90>"
      ]
     },
     "metadata": {},
     "output_type": "display_data"
    },
    {
     "name": "stdout",
     "output_type": "stream",
     "text": [
      "-------------------------------------------------------\n",
      "\n",
      "\n",
      "\n",
      "---------------------AREA VS DMC ---------------------\n",
      "Linear Model For Area vs DMC  is [area =  0.072549053565 * DMC  +  4.80360870522 ]\n",
      "\n",
      "Root Mean Squared Error is  63.424579367412946\n",
      "\n",
      "\n",
      "R-Squared Value is  0.00532816728518\n"
     ]
    },
    {
     "data": {
      "text/plain": [
       "<matplotlib.figure.Figure at 0x1a3635b7588>"
      ]
     },
     "metadata": {},
     "output_type": "display_data"
    },
    {
     "name": "stdout",
     "output_type": "stream",
     "text": [
      "-------------------------------------------------------\n",
      "\n",
      "\n",
      "\n",
      "---------------------AREA VS DC ---------------------\n",
      "Linear Model For Area vs DC  is [area =  0.0126721404613 * DC  +  5.90371893507 ]\n",
      "\n",
      "Root Mean Squared Error is  63.516634935598375\n",
      "\n",
      "\n",
      "R-Squared Value is  0.00243870294092\n"
     ]
    },
    {
     "data": {
      "text/plain": [
       "<matplotlib.figure.Figure at 0x1a3635bff98>"
      ]
     },
     "metadata": {},
     "output_type": "display_data"
    },
    {
     "name": "stdout",
     "output_type": "stream",
     "text": [
      "-------------------------------------------------------\n",
      "\n",
      "\n",
      "\n",
      "---------------------AREA VS ISI ---------------------\n",
      "Linear Model For Area vs ISI  is [area =  0.115287314309 * ISI  +  11.8072087207 ]\n",
      "\n",
      "Root Mean Squared Error is  63.59205771952823\n",
      "\n",
      "\n",
      "R-Squared Value is  6.81894084784e-05\n"
     ]
    },
    {
     "data": {
      "text/plain": [
       "<matplotlib.figure.Figure at 0x1a36359e080>"
      ]
     },
     "metadata": {},
     "output_type": "display_data"
    },
    {
     "name": "stdout",
     "output_type": "stream",
     "text": [
      "-------------------------------------------------------\n",
      "\n",
      "\n",
      "\n",
      "---------------------AREA VS temp ---------------------\n",
      "Linear Model For Area vs temp  is [area =  1.07262762106 * temp  +  -7.41375156477 ]\n",
      "\n",
      "Root Mean Squared Error is  63.2890852262009\n",
      "\n",
      "\n",
      "R-Squared Value is  0.00957346934149\n"
     ]
    },
    {
     "data": {
      "text/plain": [
       "<matplotlib.figure.Figure at 0x1a363320828>"
      ]
     },
     "metadata": {},
     "output_type": "display_data"
    },
    {
     "name": "stdout",
     "output_type": "stream",
     "text": [
      "-------------------------------------------------------\n",
      "\n",
      "\n",
      "\n",
      "---------------------AREA VS RH ---------------------\n",
      "Linear Model For Area vs RH  is [area =  -0.294512209719 * RH  +  25.8058292973 ]\n",
      "\n",
      "Root Mean Squared Error is  63.412682883308634\n",
      "\n",
      "\n",
      "R-Squared Value is  0.00570127146668\n"
     ]
    },
    {
     "data": {
      "text/plain": [
       "<matplotlib.figure.Figure at 0x1a3636311d0>"
      ]
     },
     "metadata": {},
     "output_type": "display_data"
    },
    {
     "name": "stdout",
     "output_type": "stream",
     "text": [
      "-------------------------------------------------------\n",
      "\n",
      "\n",
      "\n",
      "---------------------AREA VS wind ---------------------\n",
      "Linear Model For Area vs wind  is [area =  0.437621858853 * wind  +  11.0891018123 ]\n",
      "\n",
      "Root Mean Squared Error is  63.58940169097858\n",
      "\n",
      "\n",
      "R-Squared Value is  0.000151715309948\n"
     ]
    },
    {
     "data": {
      "text/plain": [
       "<matplotlib.figure.Figure at 0x1a363661940>"
      ]
     },
     "metadata": {},
     "output_type": "display_data"
    },
    {
     "name": "stdout",
     "output_type": "stream",
     "text": [
      "-------------------------------------------------------\n",
      "\n",
      "\n",
      "\n",
      "---------------------AREA VS rain ---------------------\n",
      "Linear Model For Area vs rain  is [area =  -1.5842442175 * rain  +  12.8816122538 ]\n",
      "\n",
      "Root Mean Squared Error is  63.59250083987431\n",
      "\n",
      "\n",
      "R-Squared Value is  5.42539678081e-05\n"
     ]
    },
    {
     "data": {
      "text/plain": [
       "<matplotlib.figure.Figure at 0x1a3636f80b8>"
      ]
     },
     "metadata": {},
     "output_type": "display_data"
    },
    {
     "name": "stdout",
     "output_type": "stream",
     "text": [
      "-------------------------------------------------------\n",
      "FINAL CONCLUSION :-\n",
      "More temp More Area Burnt\n",
      "-------------------------------------------------------\n",
      "\n",
      "\n",
      "\n",
      "---------------Prediction on basis of simple linear regression---------------\n",
      "Value of temp for which area burnt is to be predicted is :  40\n",
      "Predicted value of area burnt is  35.4913532776\n",
      "-----------------------------------------------------------------------------\n",
      "\n",
      "\n",
      "\n",
      "------------------------Multivariate linear regression-----------------------\n",
      "                            OLS Regression Results                            \n",
      "==============================================================================\n",
      "Dep. Variable:                   area   R-squared:                       0.025\n",
      "Model:                            OLS   Adj. R-squared:                  0.002\n",
      "Method:                 Least Squares   F-statistic:                     1.092\n",
      "Date:                Wed, 16 May 2018   Prob (F-statistic):              0.364\n",
      "Time:                        01:16:14   Log-Likelihood:                -2873.8\n",
      "No. Observations:                 517   AIC:                             5774.\n",
      "Df Residuals:                     504   BIC:                             5829.\n",
      "Df Model:                          12                                         \n",
      "Covariance Type:            nonrobust                                         \n",
      "==============================================================================\n",
      "                 coef    std err          t      P>|t|      [0.025      0.975]\n",
      "------------------------------------------------------------------------------\n",
      "Intercept    -16.1538     63.420     -0.255      0.799    -140.755     108.447\n",
      "X              1.9002      1.450      1.311      0.191      -0.948       4.748\n",
      "Y              0.3241      2.754      0.118      0.906      -5.086       5.734\n",
      "month          2.9004      2.791      1.039      0.299      -2.583       8.384\n",
      "day            1.3269      1.320      1.005      0.315      -1.267       3.921\n",
      "FFMC          -0.1127      0.663     -0.170      0.865      -1.415       1.190\n",
      "DMC            0.0966      0.071      1.369      0.172      -0.042       0.235\n",
      "DC            -0.0315      0.032     -0.981      0.327      -0.095       0.032\n",
      "ISI           -0.7305      0.772     -0.947      0.344      -2.247       0.786\n",
      "temp           0.9546      0.797      1.198      0.232      -0.612       2.521\n",
      "RH            -0.1758      0.241     -0.730      0.466      -0.649       0.297\n",
      "wind           1.2321      1.702      0.724      0.470      -2.113       4.577\n",
      "rain          -3.1958      9.683     -0.330      0.742     -22.220      15.829\n",
      "==============================================================================\n",
      "Omnibus:                      972.663   Durbin-Watson:                   1.643\n",
      "Prob(Omnibus):                  0.000   Jarque-Bera (JB):           769640.593\n",
      "Skew:                          12.508   Prob(JB):                         0.00\n",
      "Kurtosis:                     190.356   Cond. No.                     1.41e+04\n",
      "==============================================================================\n",
      "\n",
      "Warnings:\n",
      "[1] Standard Errors assume that the covariance matrix of the errors is correctly specified.\n",
      "[2] The condition number is large, 1.41e+04. This might indicate that there are\n",
      "strong multicollinearity or other numerical problems.\n",
      "\n",
      "\n",
      "\n",
      "1.9002*X + 0.3241*Y + 2.9004*month + 1.3269*day - 0.1127*FFMC + 0.0966*DMC - 0.0315*DC - 0.7305*ISI + 0.9546*temperature - 0.1758*RH + 1.2321*wind - 3.1958*rain - 16.1538\n",
      "\n",
      "\n",
      "\n",
      "\n",
      "\n",
      "\n",
      "\n",
      "\n",
      "------------Prediction on basis of Multivariate linear regression-----------\n",
      "Value of attributes for which area burnt is to be predicted is : \n",
      "X = 6, Y = 3, month = 11, day = 3, FFMC = 79.5, DMC = 3, DC = 106.7, ISI = 1.1, temperature = 11.8, RH = 31, wind = 4.5, rain = 0\n",
      "Predicted value of area burnt is  2.969769999999997\n",
      "-----------------------------------------------------------------------------\n"
     ]
    }
   ],
   "source": [
    "#REGRESSION ANALYSIS OF FOREST FIRE DATASET\n",
    "import pandas as pd\n",
    "import matplotlib.pyplot as plt\n",
    "from statistics import mean\n",
    "from math import sqrt\n",
    "import statsmodels.formula.api as smap\n",
    "\n",
    "df = pd.read_csv('forestfires.csv')#loading the data\n",
    "df1 = pd.read_csv('forestfires.csv')#loading the data\n",
    "\n",
    "def slope_intercept_best_fit_line(year, house_prices):#Function to calculate the slope and y-intercept of the regression line\n",
    "    x_mean = mean(year)\n",
    "    y_mean = mean(house_prices)\n",
    "    num = 0\n",
    "    den = 0\n",
    "    for index, value in enumerate(year):\n",
    "        num = num + (year[index]-x_mean)*(house_prices[index]-y_mean)\n",
    "        den = den + (year[index]-x_mean)**2\n",
    "    slope = num/den\n",
    "    y_intercept = y_mean - (slope*x_mean)\n",
    "    return slope, y_intercept\n",
    "\n",
    "def find_rmse(y, Y):#Function to calculate the ROOT MEAN SQUARE ERROR\n",
    "    rmse = 0\n",
    "    for index, value in enumerate(y):\n",
    "        rmse = rmse + (value - Y[index]) ** 2\n",
    "    rmse = sqrt(rmse/len(y))\n",
    "    return rmse\n",
    "\n",
    "def find_R_squared(y, Y):#Function to calculate R SQUARED VALUE\n",
    "    squared_error_mean =  0\n",
    "    squared_error_line = 0\n",
    "    y_mean = y.mean()\n",
    "    for index, value in enumerate(y):\n",
    "        squared_error_mean = squared_error_mean+(y[index] - y_mean) ** 2\n",
    "        squared_error_line = squared_error_line+(y[index] - Y[index]) ** 2\n",
    "    R_squared = 1 - (squared_error_line/squared_error_mean)\n",
    "    return R_squared\n",
    "\n",
    "\n",
    "def predict_simple_linear_regression(temperature, slope, y_intercept):\n",
    "    predicted_value = (slope*temperature)+y_intercept\n",
    "    \n",
    "    return predicted_value\n",
    "\n",
    "\n",
    "#Converting categorical features to numerical features for analysis (ENCODING)\n",
    "months = ['jan', 'feb', 'mar', 'apr', 'may', 'jun','jul', 'aug', 'sep', 'oct', 'nov', 'dec']\n",
    "days = ['sun', 'mon', 'tue', 'wed', 'thu', 'fri', 'sat']\n",
    "df1['month'] = [months.index(month) for month in df['month'] ]\n",
    "df1['day'] = [days.index(day) for day in df['day'] ]\n",
    "df1['month'] = df1['month'] + 1\n",
    "df1['day'] = df1['day'] + 1\n",
    "\n",
    "attributes = list(df.columns.values)\n",
    "attributes1 = list(df.columns.values)\n",
    "attributes1.remove('area' )#Getting rid of unnecessary columns\n",
    "attributes1.remove('day' )#Getting rid of unnecessary columns\n",
    "attributes.remove('month')#Getting rid of unnecessary columns\n",
    "attributes.remove('day')#Getting rid of unnecessary columns\n",
    "\n",
    "#New dataframe for to show statistical analysis    \n",
    "newdf = pd.DataFrame(index = ['max','min','mean','median','standard deviation'], columns = attributes)\n",
    "\n",
    "#Calculation for statistical analysis of data\n",
    "for index ,row in newdf.iterrows():  \n",
    "    for value in attributes:\n",
    "        if(index == 'max'):\n",
    "            row[value] = df[value].max()\n",
    "        if(index == 'min'):\n",
    "            row[value] = df[value].min()\n",
    "        if(index == 'mean'):\n",
    "            row[value] = df[value].mean()\n",
    "        if(index == 'median'):\n",
    "            row[value] = df[value].median()\n",
    "        if(index == 'standard deviation'):\n",
    "            row[value] = df[value].std()\n",
    "\n",
    "print(\"---------------------STATISTICS------------------\")        \n",
    "print(newdf.T)\n",
    "\n",
    "#Calculation of correlation between area attribute and other attributes\n",
    "df_corr = df.corr()\n",
    "area_corr = df_corr['area'].drop('area')\n",
    "print(\"\")\n",
    "print(\"\")\n",
    "print(\"-------------Correlation between area and other attributes-----------\")\n",
    "print (area_corr)\n",
    "area_corr_absolute = area_corr.abs()\n",
    "max_area_corr = area_corr_absolute.max()#To check the attribute which is highly correlated to area burnt\n",
    "max_area_corr_index = list(area_corr_absolute).index(max_area_corr)\n",
    "print(\"\")\n",
    "print(\"\")\n",
    "print(\"--------------------------------------------------------\")\n",
    "print(\"The attribute which is most correlated to area is\",attributes[max_area_corr_index])\n",
    "print(\"--------------------------------------------------------\")\n",
    "\n",
    "\n",
    "#Lists to store the rmse and R squared values for different regression models\n",
    "rmse = []\n",
    "R_squared = []\n",
    "\n",
    "#Creating different regression models using the slope_intercept_best_fit_line function\n",
    "#Also calculating the rmse and R squared values for different models\n",
    "for index, value in enumerate(attributes1):\n",
    "    m, y_intercept = slope_intercept_best_fit_line(df1[value], df1['area'])\n",
    "    print (\"\")\n",
    "    print (\"\")\n",
    "    print (\"\")\n",
    "    print (\"---------------------AREA VS\",value,\"---------------------\")    \n",
    "    print (\"Linear Model For Area vs\",value,\" is [area = \" , m, \"*\" , value,\" + \", y_intercept, \"]\")\n",
    "    print (\"\")\n",
    "    x_values = df1[value]\n",
    "    y_values = df1['area']\n",
    "    Y_values = m * x_values + y_intercept\n",
    "    rmse.append(find_rmse(y_values,Y_values))\n",
    "    print (\"Root Mean Squared Error is \", find_rmse(y_values,Y_values))\n",
    "    print (\"\")\n",
    "    R_squared.append(find_R_squared(y_values,Y_values))\n",
    "    print (\"\")\n",
    "    print (\"R-Squared Value is \", find_R_squared(y_values,Y_values))\n",
    "    plt.scatter(x_values, y_values, label = 'data')\n",
    "    title = 'area VS ' + value + '  GRAPH'\n",
    "    plt.suptitle(title)\n",
    "    plt.style.use('ggplot')\n",
    "    plt.plot(x_values, Y_values, color = 'b', label = 'Regression Line')\n",
    "    plt.legend()\n",
    "    plt.show()\n",
    "    print (\"-------------------------------------------------------\")\n",
    "\n",
    "#Final analysis on the basis of R squared value\n",
    "#R-Squared value simply tells us the percentage of dependent variable's change that can be predicted\n",
    "#by the independent variable\n",
    "#Conclusion is on the basis that higher the R squared value, the better the model fits the data\n",
    " \n",
    "print(\"FINAL CONCLUSION :-\")\n",
    "print(\"More\",attributes1[list(R_squared).index(max(R_squared))], \"More Area Burnt\")\n",
    "print (\"-------------------------------------------------------\")\n",
    "\n",
    "#Prediction on basis of temperature\n",
    "#Collecting data for linear regression model on basis of temp\n",
    "print (\"\")\n",
    "print (\"\")\n",
    "print (\"\")\n",
    "print (\"---------------Prediction on basis of simple linear regression---------------\")\n",
    "slope, y_intercept = slope_intercept_best_fit_line(df1['temp'], df1['area'])#Collecting data for linear regression model on basis of temp\n",
    "temp = 40\n",
    "print (\"Value of temp for which area burnt is to be predicted is : \", temp)\n",
    "print (\"Predicted value of area burnt is \", predict_simple_linear_regression(temp, slope, y_intercept))\n",
    "print (\"-----------------------------------------------------------------------------\")\n",
    "\n",
    "#using statsmodel libraray to do multivariate linear regression\n",
    "#multivariate regression can be done without library also by using the slope_intercept_best_fit_line function for different attributes individually\n",
    "print (\"\")\n",
    "print (\"\")\n",
    "print (\"\")\n",
    "print (\"------------------------Multivariate linear regression-----------------------\")\n",
    "multivariate_linear_regression = smap.ols(formula = 'area~X+Y+month+day+FFMC+DMC+DC+ISI+temp+RH+wind+rain', data = df1).fit()\n",
    "print(multivariate_linear_regression.summary())\n",
    "print (\"\")\n",
    "print (\"\")\n",
    "print (\"\")\n",
    "print('1.9002*X + 0.3241*Y + 2.9004*month + 1.3269*day - 0.1127*FFMC + 0.0966*DMC - 0.0315*DC - 0.7305*ISI + 0.9546*temperature - 0.1758*RH + 1.2321*wind - 3.1958*rain - 16.1538')\n",
    "print (\"\")\n",
    "print (\"\")\n",
    "print (\"\")\n",
    "\n",
    "\n",
    "#prediction on basis of the above created model\n",
    "data = [4,4,12,2,85.4,25.4,349.7,2.6,4.6,21,8.5,0]\n",
    "predictions = multivariate_linear_regression.predict()\n",
    "print (\"\")\n",
    "print (\"\")\n",
    "print (\"\")\n",
    "print (\"\")\n",
    "print (\"\")\n",
    "print (\"------------Prediction on basis of Multivariate linear regression-----------\")\n",
    "X = 2\n",
    "Y = 4\n",
    "month = 8\n",
    "day = 1\n",
    "FFMC = 81.6\n",
    "DMC = 56.7\n",
    "DC = 665.6\n",
    "ISI = 1.9\n",
    "temperature = 21.9\n",
    "RH = 71\n",
    "wind = 5.8\n",
    "rain = 0\n",
    "print (\"Value of attributes for which area burnt is to be predicted is : \")\n",
    "print (\"X = 6, Y = 3, month = 11, day = 3, FFMC = 79.5, DMC = 3, DC = 106.7, ISI = 1.1, temperature = 11.8, RH = 31, wind = 4.5, rain = 0\")\n",
    "print (\"Predicted value of area burnt is \", 1.9002*X + 0.3241*Y + 2.9004*month + 1.3269*day - 0.1127*FFMC + 0.0966*DMC - 0.0315*DC - 0.7305*ISI + 0.9546*temperature - 0.1758*RH +1.2321*wind - 3.1958*rain- 16.1538)\n",
    "print (\"-----------------------------------------------------------------------------\")"
   ]
  },
  {
   "cell_type": "code",
   "execution_count": null,
   "metadata": {
    "collapsed": true
   },
   "outputs": [],
   "source": []
  },
  {
   "cell_type": "code",
   "execution_count": null,
   "metadata": {
    "collapsed": true
   },
   "outputs": [],
   "source": []
  }
 ],
 "metadata": {
  "kernelspec": {
   "display_name": "Python 3",
   "language": "python",
   "name": "python3"
  },
  "language_info": {
   "codemirror_mode": {
    "name": "ipython",
    "version": 3
   },
   "file_extension": ".py",
   "mimetype": "text/x-python",
   "name": "python",
   "nbconvert_exporter": "python",
   "pygments_lexer": "ipython3",
   "version": "3.6.1"
  }
 },
 "nbformat": 4,
 "nbformat_minor": 2
}
